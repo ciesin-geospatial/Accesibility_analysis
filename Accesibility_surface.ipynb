{
 "cells": [
  {
   "cell_type": "markdown",
   "metadata": {},
   "source": [
    "# Create Accessibility Layers"
   ]
  },
  {
   "cell_type": "markdown",
   "metadata": {},
   "source": [
    "## Objectives:\n",
    "1. Create catchment areas for each PoI based on least cost distance in minutes for different travel mode( walking or walking + motorized )\n",
    "2. Create least path distance in minutes from settlement locations to the closest PoI\n",
    "3. Calculate everage distance in minutes per settlement to the closest PoI based on travel mode ( walking or walking + motorized )\n",
    "4. Summarize popuation by the cathcment areas\n",
    "5. Summarize population in 30min time interval by catchment areas"
   ]
  },
  {
   "cell_type": "markdown",
   "metadata": {},
   "source": [
    "## Input Layers:\n",
    "1. Friction layer in minutes for walk travel type\n",
    "2. Friction layer in minutes for mix travel  travel ( walking or walking + motorized ) type\n",
    "3. Popualtion raster layer. WorldPop constrainted popualiton layer shoud be used. \n",
    "4. Settlement extent\n",
    "5. Point of interest (health facilities,schools etc)"
   ]
  },
  {
   "cell_type": "markdown",
   "metadata": {},
   "source": [
    "## Outputs :\n",
    "1. Cost distance surface in minutes\n",
    "2. Catchent areas of each PoI with popualtion summary\n",
    "3. Catchent areas of each PoI ( boundaries are smooth) \n",
    "4. Least cost path from settlement locations to closest PoI\n",
    "5. Least cost path from settlement locations to closest PoI (lines are smooth)\n",
    "6. Settlement extens with everage travel time in minutes to closest PoI"
   ]
  },
  {
   "cell_type": "markdown",
   "metadata": {},
   "source": [
    "## Process"
   ]
  },
  {
   "cell_type": "markdown",
   "metadata": {},
   "source": [
    "### Import require libraries"
   ]
  },
  {
   "cell_type": "code",
   "execution_count": 16,
   "metadata": {},
   "outputs": [],
   "source": [
    "import os\n",
    "import pandas as pd\n",
    "import arcpy\n",
    "import re\n",
    "import arcpy.cartography as CA\n",
    "arcpy.env.overwriteOutput = True\n",
    "import unidecode\n",
    "\n",
    "     "
   ]
  },
  {
   "cell_type": "code",
   "execution_count": 115,
   "metadata": {},
   "outputs": [],
   "source": [
    "##install libraries if you have not done before\n",
    "#! pip install unidecode"
   ]
  },
  {
   "cell_type": "markdown",
   "metadata": {},
   "source": [
    "### Initialize Variables"
   ]
  },
  {
   "cell_type": "code",
   "execution_count": 26,
   "metadata": {},
   "outputs": [],
   "source": [
    "country_iso=\"sle\"           # three letter country iso code e.g. zmb for Zombia\n",
    "poi_type=  \"schools\"        # type of point of interest such as \"health_facility\"      !! no space between names !!\n",
    "\n",
    "##=============================================================================================##\n",
    "travel_type= \"walk\"          # options: walk or mix( walk+motorized)\n",
    "run_by=\"all\"            # if you want to create accesibiliy layers for each poi type \"category\", otherwise type \"all\" \n",
    "poi_type_col=\"sch_type\"      # name of the field/column for poi type\n",
    "\n",
    "###================================ input layers ==============================================###\n",
    "\n",
    "# path to poi such as health facilities or schools\n",
    "path_to_poi=r\"\"\n",
    "# friction surface for walking. It is created by \"create_friction_surface\" script\n",
    "path_to_friction_walk=r\"\"\n",
    "# friction surface for motorized.It is created by \"create_friction_surface\" script\n",
    "path_to_friction_mix=r\"\"\n",
    "#path to popualtion raster\n",
    "path_to_pop_raster=r\"\n",
    "# path to settlement extent\n",
    "path_to_sett_extent=r\"\"\n",
    "### important: Settlement extent layers (bua, saa , hamlets) need to be merged. \n",
    "               # if settlement extent layers are merged \"path_to_sett_extent\" needs to be initialized to merged layer\n",
    "               # if settlement extent layers are not merged \"path_to_sett_extent\" needs to be initialized to the   \n",
    "               #  gdb that have settlement extent layers,and \"Merge settlement extent\" section needs to be run\n",
    "\n",
    "            # path to the directory that you want to save outputs\n",
    "output_path=r\"\"\n",
    "\n",
    "###==================== select friction layer based on travel type============================###\n",
    "\n",
    "if travel_type==\"walk\":\n",
    "    friction_layer= path_to_friction_walk\n",
    "if travel_type==\"mix\":\n",
    "    friction_layer= path_to_friction_mix\n",
    "            \n",
    "###================================ output workspace ==========================================###\n",
    "\n",
    "\n",
    "# create output directory\n",
    "if not  os.path.exists (os.path.join(output_path,\"output_\"+poi_type+\"_\"+run_by+\"_\"+travel_type)):\n",
    "    os.mkdir(os.path.join(output_path,\"output_\"+poi_type+\"_\"+run_by+\"_\"+travel_type))\n",
    "output_loc=os.path.join(output_path,\"output_\"+poi_type+\"_\"+run_by+\"_\"+travel_type)\n",
    "\n",
    "# create output gdb\n",
    "if  not arcpy.Exists(os.path.join(output_loc,\"output.gdb\")):\n",
    "    arcpy.CreateFileGDB_management(output_loc,\"output.gdb\")\n",
    "output_gdb=os.path.join(output_loc,\"output.gdb\")\n",
    "\n",
    "\n",
    "arcpy.env.workspace = output_gdb\n"
   ]
  },
  {
   "cell_type": "markdown",
   "metadata": {},
   "source": [
    "### Preprocessing\n"
   ]
  },
  {
   "cell_type": "markdown",
   "metadata": {},
   "source": [
    "#### Merge settlement extent"
   ]
  },
  {
   "cell_type": "code",
   "execution_count": 2,
   "metadata": {},
   "outputs": [],
   "source": [
    "# ### Run this section if settlement extent layer has a seperate layer for each settlement class\n",
    "\n",
    "# bua=os.path.join(path_to_sett_extent,\"bua\")\n",
    "# ssa=os.path.join(path_to_sett_extent,\"ssa\")\n",
    "# hamlet=os.path.join(path_to_sett_extent,\"hamlet\")\n",
    "# arcpy.Merge_menagament([bua, ssa, hamlte], \"sett_extent_merged\")\n",
    "# path_to_sett_extent=os.path.join(output_gdb,\"sett_extent_merged\")"
   ]
  },
  {
   "cell_type": "markdown",
   "metadata": {},
   "source": [
    "### Process"
   ]
  },
  {
   "cell_type": "markdown",
   "metadata": {},
   "source": [
    "### Functions"
   ]
  },
  {
   "cell_type": "code",
   "execution_count": 27,
   "metadata": {},
   "outputs": [],
   "source": [
    "\n",
    "def project_raster(raster_to_be_projected, reference_raster):\n",
    "    arcpy.env.snapRaster  =reference_raster\n",
    "    arcpy.env.extent      =reference_raster\n",
    "    arcpy.env.cellAlignment = \"ALIGN_WITH_PROCESSING_EXTENT\"\n",
    "    arcpy.env.cellSize = reference_raster\n",
    "    arcpy.env.overwriteOutput = True \n",
    "    arcpy.env.outputCoordinateSystem = arcpy.Describe(reference_raster).spatialReference\n",
    "    prj= arcpy.Describe(reference_raster).spatialReference\n",
    "    arcpy.ProjectRaster_management(raster_to_be_projected,\"pop_proj\",prj)\n",
    "\n",
    "\n",
    "def spatial_join(target, join, fieldname, out_name):\n",
    "    fieldmappings = arcpy.FieldMappings()\n",
    "    fieldmappings.addTable(target)\n",
    "    fieldmappings.addTable(join)\n",
    "    fieldIndex_ = fieldmappings.findFieldMapIndex(\"grid_code\")\n",
    "    fieldmap = fieldmappings.getFieldMap(fieldIndex_ )\n",
    "    field = fieldmap.outputField\n",
    "    field.name = fieldname\n",
    "    field.aliasName = fieldname\n",
    "    fieldmap.outputField = field\n",
    "    fieldmap.mergeRule = \"mean\"\n",
    "    fieldmappings.replaceFieldMap(fieldIndex_ , fieldmap)\n",
    "    arcpy.SpatialJoin_analysis(target, join,out_name, \"#\", \"#\", fieldmappings)\n",
    "\n",
    "def create_accessibility_layers(point_layer, outname=\"all\"):    \n",
    "     ##==========================================================================================###\n",
    "    cost_distance=\"cost_distance_\"+ outname\n",
    "    cost_allocation=\"cost_allocation_\"+ outname\n",
    "    catchment_areas=\"catchments_\"+ outname\n",
    "    catchment_areas_smoothBorders= \"catchments_smoothBorders_\"+ outname\n",
    "    sett_path=\"sett_path_\"+ outname\n",
    "    sett_path_smoothline=\"sett_path_all_smoothlines_\"+ outname\n",
    "    sett_with_cost=\"Sett_extent_cost_in_min_\"+ outname\n",
    "    point_layer=arcpy.CopyFeatures_management(point_layer, poi_type+\"_\"+outname)\n",
    "    ##==========================================================================================### \n",
    "   \n",
    "    print (f\"Craating accessiblility layers for =={country_iso}== for =={poi_type} >> {outname}== with =={travel_type}== travel mode\" )\n",
    "    print(\" \")\n",
    "    print ( \"   >>> Creating cost distance in minutes to PoI\")\n",
    "    arcpy.sa.CostDistance(point_layer,friction_layer,\"\" , \"outBkLinkRaster\").save(  cost_distance)\n",
    "    \n",
    "    print ( \"   >>> Creating catcment areas of PoI  based on  minimum cost\")\n",
    "    arcpy.sa.CostAllocation(point_layer,friction_layer,\"\",\"\",\"OBJECTID\",\"cost_allocation\").save(\"cost_allocation_temp\")\n",
    "    arcpy.RasterToPolygon_conversion(\"cost_allocation_temp\", \"catchment_areas_temp\", \"NO_SIMPLIFY\")\n",
    "    \n",
    "    \n",
    "    print (\"   >>> Calculating population of each catchmet area by 30 min dist. interval\")     \n",
    "    arcpy.sa.Con(cost_distance,130, cost_distance, \"VALUE>120\").save(cost_distance+\"_con\")\n",
    "    arcpy.sa.Contour(cost_distance+\"_con\", cost_distance+\"_contour\", 30, 0, 1, \"CONTOUR_POLYGON\")\n",
    "    arcpy.AddField_management(cost_distance+\"_contour\", \"time_interval\", \"TEXT\")\n",
    "    arcpy.management.CalculateField(cost_distance+\"_contour\", \"time_interval\", 'str(!ContourMin!)+\"-\"+str(!ContourMax!)', \"PYTHON3\", '', \"TEXT\")\n",
    "    arcpy.Intersect_analysis([cost_distance+\"_contour\",\"catchment_areas_temp\"], \"catchment_areas_int\", \"ALL\")\n",
    "    arcpy.AddField_management( \"catchment_areas_int\", \"zone_unique\", \"TEXT\")\n",
    "    arcpy.management.CalculateField( \"catchment_areas_int\", \"zone_unique\", 'str(!gridcode!)+\"_\"+str(!time_interval!)', \"PYTHON3\", '', \"TEXT\")\n",
    "    arcpy.sa.ZonalStatisticsAsTable(\"catchment_areas_int\", \"zone_unique\", path_to_pop_raster, \"zonal_pop_min\",\"DATA\", \"SUM\")\n",
    "    totpop_min_array = arcpy.da.TableToNumPyArray(\"zonal_pop_min\",[\"zone_unique\",\"SUM\"])\n",
    "    df=pd.DataFrame(totpop_min_array)\n",
    "    df[['gridcode','time_interval']] = df[ \"zone_unique\"].str.split(\"_\",expand=True) \n",
    "    df= df.pivot(index='gridcode', columns='time_interval', values=\"SUM\")\n",
    "    df.rename({\"0.0-30.0\":\"under_30min\",\"30.0-60.0\":\"30min-60min\",\"60.0-90.0\":\"60min-90min\",\n",
    "                 \"90.0-120.0\":\"90min-120min\",\"120.0-130.0\":\"above_120min\"}, axis=1, inplace=True)\n",
    "    df=   df.fillna(0)\n",
    "    df[\"totpop_20\"]=df[\"under_30min\"]+df[\"30min-60min\"]+df[\"60min-90min\"]+df[\"90min-120min\"]+df[\"above_120min\"]\n",
    "    df.to_csv(output_loc+\"\\\\\"+\"catchments_pop_summary.csv\")\n",
    "    pop_summary=os.path.join(output_loc,\"catchments_pop_summary.csv\")\n",
    "    \n",
    "    print (\"   >>> Adding population and PoI attribute fields to catchment area layer\")  \n",
    "    arcpy.AddJoin_management(\"catchment_areas_temp\", \"gridcode\",pop_summary, \"gridcode\")  \n",
    "    arcpy.AddJoin_management(\"catchment_areas_temp\", \"gridcode\", point_layer, \"OBJECTID\")\n",
    "    arcpy.CopyFeatures_management(\"catchment_areas_temp\", catchment_areas)      \n",
    "     \n",
    "    print (\"   >>> Smoothing catchment areas boundarie\")\n",
    "    CA.SimplifyPolygon( catchment_areas,catchment_areas_smoothBorders, \"POINT_REMOVE\", 50,\"\",\"\",\"NO_KEEP\")  \n",
    "                    \n",
    "    print (\"   >>> Creating cost path from settlements to PoI\")\n",
    "    arcpy.sa.CostPath(path_to_sett_extent, cost_distance, \"outBkLinkRaster\",\"EACH_ZONE\",\"OBJECTID\").save(\"settlement_path_temp\")\n",
    "    arcpy.RasterToPolyline_conversion(\"settlement_path_temp\", sett_path,\"\", \"\", \"NO_SIMPLIFY\", \"Value\")\n",
    "    \n",
    "    print (\"   >>> Smoothing paths\")\n",
    "    CA.SimplifyLine(sett_path,sett_path_smoothline, \"POINT_REMOVE\", 50,\"\",\"NO_KEEP\")\n",
    "    \n",
    "    print ( \"   >>> Calculating everage travel time in minutes to closest PoI...\")\n",
    "    arcpy.RasterToPoint_conversion(cost_distance, \"cost_distance_point\", \"VALUE\")\n",
    "    spatial_join(path_to_sett_extent, \"cost_distance_point\", \"average_cost_min\", sett_with_cost)  \n",
    "    arcpy.DeleteField_management( sett_with_cost,  [\"Join_Count\", \"TARGET_FID\", \"pointid\"])\n",
    "    \n",
    "    print (\"   >>> Deleting temporary layers...\")\n",
    "    delete_fc=[\"outBkLinkRaster\",\"cost_allocation_temp\", \"cost_distance_point\",\"catchment_areas_temp\",\"catchment_areas_int\",\n",
    "               \"zonal_pop_min\",\"settlement_path_temp\",\"cost_allocation\",\"cost_distance_all_con\",\"cost_distance_all_contour\"]\n",
    "    for fc in delete_fc:\n",
    "         arcpy.Delete_management(fc)      \n",
    "    print (\"##====================================================================================================##\")    \n",
    "          \n",
    "\n",
    "\n",
    "    "
   ]
  },
  {
   "cell_type": "markdown",
   "metadata": {},
   "source": [
    "### Create Outputs"
   ]
  },
  {
   "cell_type": "code",
   "execution_count": 28,
   "metadata": {
    "code_folding": []
   },
   "outputs": [
    {
     "name": "stdout",
     "output_type": "stream",
     "text": [
      "Craating accessiblility layers for ==sle== for ==schools >> all== with ==walk== travel mode\n",
      " \n",
      "   >>> Creating cost distance in minutes to PoI\n",
      "   >>> Creating catcment areas of PoI  based on  minimum cost\n",
      "   >>> Calculating population of each catchmet area by 30 min dist. interval\n",
      "   >>> Adding population and PoI attribute fields to catchment area layer\n",
      "   >>> Smoothing catchment areas boundarie\n",
      "   >>> Creating cost path from settlements to PoI\n",
      "   >>> Smoothing paths\n",
      "   >>> Calculating everage travel time in minutes to closest PoI...\n",
      "   >>> Deleting temporary layers...\n",
      "##====================================================================================================##\n"
     ]
    },
    {
     "data": {
      "text/html": [
       "<h2>Output</h2>C:\\Users\\hengin_cidr\\Desktop\\hasim_recovery\\Columbia\\SLE\\SLE_school_catchment_areas\\input_layers\\schools\\D_Senior_Secondary.shp<h2>Messages</h2>Start Time: Friday, March 12, 2021 2:31:01 PM<br/>WARNING 000728: Field type_clean does not exist within table<br/>Succeeded at Friday, March 12, 2021 2:31:01 PM (Elapsed Time: 0.02 seconds)<br/><style>.rendered_html td, .rendered_html th {text-align: left;}.rendered_html tbody {border: 1px solid black;}</style>"
      ],
      "text/plain": [
       "<Result 'C:\\\\Users\\\\hengin_cidr\\\\Desktop\\\\hasim_recovery\\\\Columbia\\\\SLE\\\\SLE_school_catchment_areas\\\\input_layers\\\\schools\\\\D_Senior_Secondary.shp'>"
      ]
     },
     "execution_count": 28,
     "metadata": {},
     "output_type": "execute_result"
    }
   ],
   "source": [
    "## project popualtion raster to aling with friction raster\n",
    "project_raster(path_to_pop_raster,friction_layer)\n",
    "path_to_pop_raster=\"pop_proj\"\n",
    "\n",
    "### this section will be executed if run_by set as \"all\"\n",
    "if run_by==\"all\":\n",
    "    create_accessibility_layers(path_to_poi)\n",
    "    \n",
    "##=========================================================================================================##\n",
    "\n",
    "## this section will be executed if run_by set as \"category\"\n",
    "if run_by==\"category\":\n",
    "    ## get list of category, but before that forma type\n",
    "    ## formatting output layers names for each category in PoI layer\n",
    "    ## arcpy does not create output layers if the layers name contains spatial characters\n",
    "    category_list=[]\n",
    "    arcpy.AddField_management(path_to_poi, \"type_clean\", \"TEXT\")\n",
    "    with arcpy.da.UpdateCursor(path_to_poi,[poi_type_col,\"type_clean\"]) as cursor:\n",
    "        for row in cursor:\n",
    "            if row[0] is not None:\n",
    "                fix_type= unidecode.unidecode(row[0])\n",
    "                fix_type=re.sub(r'[-|$|.|!|)|(|!|-|_|]',r'',fix_type)\n",
    "                fix_type=fix_type.strip().replace(\"  \",\"_\").replace(\" \",\"_\")\n",
    "                row[1]=fix_type\n",
    "                category_list.append(row[1])\n",
    "                cursor.updateRow(row)\n",
    "    category_list=set(category_list)\n",
    "    \n",
    "    print (f\"There are {len(category_list)} categories in input PoI layer. These are:\")\n",
    "    print (category_list)\n",
    "    print (\"##=========================================================================================================##\")\n",
    "\n",
    "    for category in category_list:\n",
    "        category_poi=arcpy.Select_analysis(path_to_poi,category,\"type_clean = '{}'\".format(category))\n",
    "        create_accessibility_layers(category_poi,outname=category)\n",
    "        \n",
    "### delete column that added to input  Poi layer and settlement extent \n",
    "arcpy.DeleteField_management(  path_to_poi, \"type_clean\")\n"
   ]
  },
  {
   "cell_type": "code",
   "execution_count": null,
   "metadata": {},
   "outputs": [],
   "source": []
  }
 ],
 "metadata": {
  "kernelspec": {
   "display_name": "ArcGISPro",
   "language": "Python",
   "name": "python3"
  },
  "language_info": {
   "file_extension": ".py",
   "name": "python",
   "version": "3"
  },
  "toc": {
   "base_numbering": 1,
   "nav_menu": {},
   "number_sections": true,
   "sideBar": true,
   "skip_h1_title": false,
   "title_cell": "Table of Contents",
   "title_sidebar": "Contents",
   "toc_cell": false,
   "toc_position": {},
   "toc_section_display": true,
   "toc_window_display": false
  }
 },
 "nbformat": 4,
 "nbformat_minor": 2
}
