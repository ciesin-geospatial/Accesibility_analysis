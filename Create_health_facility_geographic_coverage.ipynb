{
 "cells": [
  {
   "cell_type": "markdown",
   "metadata": {},
   "source": [
    "Author: Hasim Engin <br>\n",
    "email:hengin@ciesin.columbia.edu<br>\n",
    "Project: GRID3<br>\n",
    "Organization:CIESIN, Columbia University<br>"
   ]
  },
  {
   "cell_type": "markdown",
   "metadata": {},
   "source": [
    "# Create Catchments for a PoI "
   ]
  },
  {
   "cell_type": "markdown",
   "metadata": {},
   "source": [
    "This notebook creates a point of interest geographic coverage based on both distance (by time) and capacity.\n",
    "## Input layers:\n",
    "\n",
    "* **Friction layers**: Friction layers (walk and walk+motorized) in minutes.They can be created by running \"create_friction_surface\" script.\n",
    "* **PoI layer**: A point of interest layer. Such as health facilities, schools, water sources .... POI layer must have unique id and capacity for each record\n",
    "* **Population raster layer**: It should be in the same resolution with friction layers (100m). Building foorprint constrained population layers that WorldPop produces are suggested. They can be downloaded here:https://www.worldpop.org/project/categories?id=3\n",
    "\n",
    "\n",
    "## Output layers: \n",
    "\n",
    "Output layers will be saved into a directory that is created specified workspace directory.A gdb will be created in the directory to save temporal layers. It can be deleted if output raster layer is ok.\n",
    " <br>\n",
    "* **output.gbd** : The scripts run trought each record in PoI layer and calculates service area for each record based on specified time in minutes and capacity. In order to avoid double count of popaultion in each serves area, covered population exluded after each itaration. \n",
    " <br>\n",
    "* **Final Layers** : <br>\n",
    "   ..._geographic_coverage.tif: This is the final raster layer that shows options of PoI that people can go in specified distance (by time) and capacity of PoI .<br>\n",
    "   ..._geographic_coverage_summary.csv: This is a summary table that calcualtes population total by the number of options that they can get a service from input PoI.\n",
    "   \n",
    "    \n",
    "    \n"
   ]
  },
  {
   "cell_type": "markdown",
   "metadata": {},
   "source": [
    "## import Libraries"
   ]
  },
  {
   "cell_type": "code",
   "execution_count": null,
   "metadata": {},
   "outputs": [],
   "source": [
    "import os\n",
    "import arcpy\n",
    "\n",
    "import pandas as pd\n",
    "from arcgis.features import SpatialDataFrame\n",
    "\n",
    "from arcpy.sa import *\n",
    "arcpy.env.overwriteOutput = True\n",
    "arcpy.CheckOutExtension(\"Spatial\")"
   ]
  },
  {
   "cell_type": "code",
   "execution_count": null,
   "metadata": {},
   "outputs": [],
   "source": [
    "# required libraries can be installed with following code\n",
    "#uncommaent the line below and write a -library name- after !):\n",
    "#! -library name- install"
   ]
  },
  {
   "cell_type": "markdown",
   "metadata": {},
   "source": [
    "## Functions"
   ]
  },
  {
   "cell_type": "code",
   "execution_count": null,
   "metadata": {},
   "outputs": [],
   "source": [
    "\n",
    "\n",
    "###==================================== functions =============================================###\n",
    "\n",
    "def delete_Dataset(datasetList):\n",
    "    for dst in datasetList:\n",
    "        #print(dst)\n",
    "        if arcpy.Exists(dst):\n",
    "            arcpy.Delete_management(dst)\n",
    "def facility_geographic_coverage(PoI_layer,PoI_type,  PoI_unique_id, friction_surface, pop_raster, time_limit, capacity_var,output_loc):\n",
    "    '''\n",
    "    calculate a facility accessibility based on distance in time and capacity of facility.\n",
    "    -------------------------------------------------------------------------------------------\n",
    "    inputs:\n",
    "    facility_loc: point layer of facility location.\n",
    "    facility_unique_id: unique id for each facility. \"FID\" can be used for a shp file, or\n",
    "        \"OBJECTID\" for a feature layer.\n",
    "    friction_surface: friction raster layer. It can be walk or combiantion walk and walk+motorized\n",
    "    pop_raster: population raster layer. it should has  the same resolution with accessibility raster.\n",
    "    time_limit: upper limit of time in minutes.\n",
    "    capacity_var: column in \n",
    "    output:\n",
    "    catchment of facility as a raster layer facility_loc that indicates capacity of facility\n",
    "    '''\n",
    "    ##=======================================================================#\n",
    "\n",
    "    # set enviroment for raster processing\n",
    "    arcpy.env.snapRaster  =friction_surface\n",
    "    arcpy.env.extent      =friction_surface\n",
    "    arcpy.env.cellSize = friction_surface\n",
    "    arcpy.env.cellAlignment = friction_surface\n",
    "    arcpy.env.outputCoordinateSystem = arcpy.Describe(friction_surface).spatialReference\n",
    "\n",
    "    #------------------------------------------------------------------------#\n",
    "\n",
    "    # preprocessing:\n",
    "        # created list of facilities to process a facility a time. \n",
    "\n",
    "    facility_ids=pd.DataFrame.spatial.from_featureclass(PoI_layer)[ PoI_unique_id].tolist()\n",
    "    facility_count=len(facility_ids)\n",
    "    print (f\"{facility_count} will be processed. It may take some time\")\n",
    "    \n",
    "    #------------------------------------------------------------------------#\n",
    "        # copy population raster to workspace\n",
    "    if not arcpy.Exists(\"pop_layer\"):\n",
    "        print (\"pop layer ready\")\n",
    "        out_coor_system = arcpy.Describe (friction_surface).spatialReference\n",
    "        arcpy.management.ProjectRaster(pop_raster, \"pop_layer\",out_coor_system)   \n",
    "\n",
    "    #------------------------------------------------------------------------#\n",
    "    for _id in facility_ids:\n",
    "        #print (_id)\n",
    "        if not arcpy.Exists(\"cathchment_\"+str(_id)):\n",
    "           \n",
    "            try:\n",
    "                facility_point=arcpy.Select_analysis(PoI_layer,\"facility_\"+str(_id),\"{}= {}\".format(PoI_unique_id,_id))\n",
    "                capacity=int(pd.DataFrame.spatial.from_featureclass(facility_point)[capacity_var].min())\n",
    "                CostDistance(facility_point,friction_surface,time_limit, \"outBkLinkRaster\").save(\"cost_distance_\"+str(_id))\n",
    "                \n",
    "               \n",
    "                i=60\n",
    "                get_pop=999999\n",
    "                while get_pop>= capacity:\n",
    "                    \n",
    "                    arcpy.gp.ExtractByAttributes_sa(\"cost_distance_\"+str(_id), \"\"\"\"Value\" <={} \"\"\".format(str(i)),\"cost_distance\")\n",
    "                    Times(\"cost_distance\", 0).save(\"cost_mask\")\n",
    "                    Int(\"cost_mask\").save(\"catchment\")\n",
    "                    ZonalStatistics(\"catchment\", \"value\", \"pop_layer\", \"SUM\",\"DATA\").save(\"cost_pop\")\n",
    "                    get_pop=int(float(arcpy.GetRasterProperties_management (\"cost_pop\", \"MINIMUM\").getOutput (0)))\n",
    "                    print (\" Health facility == {}, distance in min == {}, popualtion =={}, capacity=={}\".format(_id,time_limit,get_pop,capacity))\n",
    "                    #delete_Dataset([\"cost_distance_\"+str(i),\"cost_mask_\"+str(i), \"catchment_\"+str(i)])\n",
    "                    i=i-3\n",
    "\n",
    "                #print (\" Health facility == {}, distance in min == {}, popualtion =={}, capacity=={}\".format(_id,time_limit,get_pop,capacity))\n",
    "                Plus(\"catchment\",1).save(\"catchment_\"+str(_id))\n",
    "                Reclassify(\"catchment\", \"Value\", \"0 0;NODATA 1\", \"DATA\").save(\"catchment_temp\")\n",
    "                Times(\"catchment_temp\", \"pop_layer\").save(\"pop_layer_temp\")\n",
    "                arcpy.Delete_management(\"pop_layer\")\n",
    "                arcpy.Rename_management(\"pop_layer_temp\", \"pop_layer\")\n",
    "                #delete_Dataset([\"pop_layer_temp\",\"cost_pop_\"+str(_id),\"cost_pop_mask_\"+str(_id),\"catchment_temp_\"+str(_id)])\n",
    "\n",
    "\n",
    "            except arcpy.ExecuteError:\n",
    "                #print(arcpy.GetMessages(2)) \n",
    "          \n",
    "                delete_Dataset([ facility_point, \"outBkLinkRaster\",\"cost_distance_\"+str(_id)])\n",
    "            \n",
    "    #-------------------------------------------------------------------------#\n",
    "    # merge all individual catchments\n",
    "    print (\"Merging all catcments...\")\n",
    "    merge_catchments=[rs for rs in  arcpy.ListRasters() if rs.startswith(\"catchment_\")]  \n",
    "    arcpy.sa.CellStatistics(merge_catchments, \"SUM\", \"DATA\").save(\"geographic_coverage_temp\")\n",
    "    Times(\"pop_layer\", 0).save(\"pop_layer_mask\")\n",
    "    arcpy.sa.CellStatistics([\"geographic_coverage_temp\",\"pop_layer_mask\"], \"SUM\", \"DATA\").save(\"geographic_coverage_temp2\")\n",
    "    arcpy.sa.ExtractByMask(\"geographic_coverage_temp2\", \"pop_layer_mask\").save(output_loc+\"\\\\\"+PoI_type+\"_geographic_coverage.tif\")\n",
    "    #-------------------------------------------------------------------------#\n",
    "    # get population summary\n",
    "    print (\"Calculating overall population summary...\")\n",
    "    out_coor_system = arcpy.Describe (friction_surface).spatialReference\n",
    "    arcpy.management.ProjectRaster(pop_raster, \"pop_layer2\",out_coor_system)\n",
    "    Int(output_loc+\"\\\\\"+PoI_type+\"_geographic_coverage.tif\").save(\"catchments_int\")\n",
    "    arcpy.sa.ZonalStatisticsAsTable(\"catchments_int\", \"Value\",\"pop_layer2\", \"pop_summary\", \"DATA\", \"SUM\")\n",
    "    arcpy.conversion.TableToTable(\"pop_summary\", output_loc, PoI_type+\"_geographic_coverage_summary.csv\")\n",
    "    \n",
    "    \n",
    "    #-------------------------------------------------------------------------#\n",
    "   \n",
    "    \n",
    "    print (\">>> There are {facility_count} facility , and {len(merge_catchments)} catchments are combined\")\n",
    "\n",
    "\n",
    "\n"
   ]
  },
  {
   "cell_type": "markdown",
   "metadata": {},
   "source": [
    "## User Inputs"
   ]
  },
  {
   "cell_type": "code",
   "execution_count": null,
   "metadata": {},
   "outputs": [],
   "source": [
    "\n",
    "###=================== Initialize Variables ===================###\n",
    "\n",
    "\n",
    "poi_type=  \"\"           # type of point of interest such as \"health_facility\"      !! no space between names !!\n",
    "PoI_unique_id=  \"\"      # unique id of each PoI, OBJECTID or FID can be used if there is no any\n",
    "capacity_var=\"\"         # capacity of each PoI\n",
    "time_limit=\"\"            # distance interval in minutes\n",
    "travel_type= \"\"         # options: walk or mix( walk+motorized)                      \n",
    "\n",
    "###================================ input layers ==============================================###\n",
    "\n",
    "# path to PoI layer such as health facilities or schools\n",
    "path_to_poi=r\"\"\n",
    "\n",
    "# friction surface for walking. It is created by \"create_friction_surface\" script\n",
    "path_to_friction_walk=r\"\"\n",
    "\n",
    "# friction surface for motorized.It is created by \"create_friction_surface\" script\n",
    "path_to_friction_mix=r\"\"\n",
    "\n",
    "#path to population raster\n",
    "path_to_pop_raster=r\"\" # WorldPop building footprint contraint population layer\n",
    "\n",
    "# path to the directory that you want to save outputs\n",
    "output_path=r\"\""
   ]
  },
  {
   "cell_type": "markdown",
   "metadata": {},
   "source": [
    "## Create Output Workspace"
   ]
  },
  {
   "cell_type": "code",
   "execution_count": null,
   "metadata": {},
   "outputs": [],
   "source": [
    " #create output directory\n",
    "if not  os.path.exists (os.path.join(output_path,\"output\")):\n",
    "    os.mkdir(os.path.join(output_path,\"output\"))\n",
    "output_loc=os.path.join(output_path,\"output\")\n",
    "\n",
    " #create output gdb\n",
    "if  not arcpy.Exists(os.path.join(output_loc,\"output.gdb\")):\n",
    "    arcpy.CreateFileGDB_management(output_loc,\"output.gdb\")\n",
    "output_gdb=os.path.join(output_loc,\"output.gdb\")\n",
    "\n",
    "# workspace\n",
    "arcpy.env.workspace=output_gdb"
   ]
  },
  {
   "cell_type": "markdown",
   "metadata": {},
   "source": [
    "## Process"
   ]
  },
  {
   "cell_type": "code",
   "execution_count": null,
   "metadata": {},
   "outputs": [],
   "source": [
    "\n",
    "\n",
    "###==================== select friction layer based on travel type============================###\n",
    "\n",
    "if travel_type==\"walk\":\n",
    "    friction_layer= path_to_friction_walk\n",
    "if travel_type==\"mix\":\n",
    "    friction_layer= path_to_friction_mix\n",
    "            \n",
    "###======================== prosessin ==============================###\n",
    "\n",
    "print (\"========================= PROCESSING START ====================================\")\n",
    "\n",
    "facility_geographic_coverage(path_to_poi, PoI_unique_id, friction_layer,path_to_pop_raster, time_limit,\n",
    "                             capacity_var, output_loc)\n",
    "\n",
    "#delete output gdb \n",
    "#arcpy.Delete_management(output_gdb)\n",
    "\n",
    "print (\"SCRIPT is DONE!!\")\n",
    "    \n",
    "\n",
    "\n",
    "\n"
   ]
  }
 ],
 "metadata": {
  "kernelspec": {
   "display_name": "ArcGISPro",
   "language": "Python",
   "name": "python3"
  },
  "language_info": {
   "file_extension": ".py",
   "name": "python",
   "version": "3"
  },
  "nbTranslate": {
   "displayLangs": [
    "*"
   ],
   "hotkey": "alt-t",
   "langInMainMenu": true,
   "sourceLang": "en",
   "targetLang": "fr",
   "useGoogleTranslate": true
  },
  "toc": {
   "base_numbering": 1,
   "nav_menu": {},
   "number_sections": true,
   "sideBar": true,
   "skip_h1_title": false,
   "title_cell": "Table of Contents",
   "title_sidebar": "Contents",
   "toc_cell": false,
   "toc_position": {},
   "toc_section_display": true,
   "toc_window_display": false
  }
 },
 "nbformat": 4,
 "nbformat_minor": 2
}
